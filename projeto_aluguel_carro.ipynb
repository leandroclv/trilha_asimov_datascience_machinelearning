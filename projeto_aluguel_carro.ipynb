{
 "cells": [
  {
   "cell_type": "code",
   "execution_count": 2,
   "id": "2c8656fb",
   "metadata": {},
   "outputs": [],
   "source": [
    "import os"
   ]
  },
  {
   "cell_type": "code",
   "execution_count": 13,
   "id": "91e52785",
   "metadata": {},
   "outputs": [
    {
     "name": "stdout",
     "output_type": "stream",
     "text": [
      "\u001b[H\u001b[2J===========\n",
      "Bem vindo à locadora de carros!\n",
      "===========\n",
      "O que você deseja fazer?\n",
      "\u001b[H\u001b[2J[0] Chevrolet Tracker - R$ 120.00 por dia\n",
      "[1] Chevrolet Onix - R$ 90.00 por dia\n",
      "[2] Chevrolet Spin - R$ 150.00 por dia\n",
      "[3] Hyundai HB20 - R$ 85.00 por dia\n",
      "[4] Hyundai Tucson - R$ 120.00 por dia\n",
      "[5] Fiat Uno - R$ 60.00 por dia\n",
      "[6] Fiat Mobi - R$ 70.00 por dia\n",
      "[7] Fiat Pulse - R$ 130.00 por dia\n",
      "=====================\n",
      "\u001b[H\u001b[2JVocê escolheu Hyundai HB20 por 5 dias.\n",
      "O aluguel totalizaria R$425 Deseja alugar?\n",
      "Parabéns você alugou o Hyundai HB20 por 5 dias\n",
      "\n",
      "================\n",
      "\u001b[H\u001b[2J===========\n",
      "Bem vindo à locadora de carros!\n",
      "===========\n",
      "O que você deseja fazer?\n",
      "\u001b[H\u001b[2J[0] Chevrolet Tracker - R$ 120.00 por dia\n",
      "[1] Chevrolet Onix - R$ 90.00 por dia\n",
      "[2] Chevrolet Spin - R$ 150.00 por dia\n",
      "[3] Hyundai Tucson - R$ 120.00 por dia\n",
      "[4] Fiat Uno - R$ 60.00 por dia\n",
      "[5] Fiat Mobi - R$ 70.00 por dia\n",
      "[6] Fiat Pulse - R$ 130.00 por dia\n",
      "\n",
      "================\n",
      "\u001b[H\u001b[2J===========\n",
      "Bem vindo à locadora de carros!\n",
      "===========\n",
      "O que você deseja fazer?\n",
      "\u001b[H\u001b[2JSegue a lista de carros alugados. Qual você deseja devolver?\n",
      "[0] Hyundai HB20 - R$ 85.00 por dia\n",
      "\n",
      "Obrigado por devolver o carro Hyundai HB20\n",
      "\n",
      "================\n"
     ]
    }
   ],
   "source": [
    "carros = [('Chevrolet Tracker', 120), ('Chevrolet Onix', 90), ('Chevrolet Spin', 150), ('Hyundai HB20', 85), ('Hyundai Tucson', 120), ('Fiat Uno', 60), ('Fiat Mobi', 70), ('Fiat Pulse', 130)]\n",
    "alugados = []\n",
    "\n",
    "def mostrar_lista_carros(lista_de_carros):\n",
    "    for i, car in enumerate(lista_de_carros):\n",
    "        print(f'[{i}] {car[0]} - R$ {car[1]:.2f} por dia')\n",
    "\n",
    "while True:\n",
    "    os.system('clear')\n",
    "    print('===========')\n",
    "    print('Bem vindo à locadora de carros!')\n",
    "    print('===========')\n",
    "    print('O que você deseja fazer?')\n",
    "    op = int(input('0 - Mostrar portifólio | 1 - Alugar uma carro | 2 - Devolver um carro'))\n",
    "    \n",
    "    os.system('clear')\n",
    "    if op == 0:\n",
    "        mostrar_lista_carros(carros)\n",
    "    elif op == 1:\n",
    "        mostrar_lista_carros(carros)\n",
    "        print('=====================')\n",
    "        cod_car = int(input('Escolha o código do carro:'))\n",
    "        dias = int(input('Por quantos dias você deseja alugar este carro: '))\n",
    "        os.system('clear')\n",
    "        \n",
    "        print(f'Você escolheu {carros[cod_car][0]} por {dias} dias.')\n",
    "        total = dias * carros[cod_car][1]\n",
    "        print(f'O aluguel totalizaria R${total} Deseja alugar?')\n",
    "        conf = int(input('0 - sim | 1 - não'))\n",
    "        if conf == 0:\n",
    "            print(f'Parabéns você alugou o {carros[cod_car][0]} por {dias} dias')\n",
    "            alugados.append(carros.pop(cod_car))\n",
    "    elif op == 2:\n",
    "        if len(alugados) == 0:\n",
    "            print('Não há carros para devolver')\n",
    "        else:\n",
    "            print('Segue a lista de carros alugados. Qual você deseja devolver?')\n",
    "            mostrar_lista_carros(alugados)\n",
    "            print('')\n",
    "            cod = int(input('Escolha o código do carro que deseja devolver: '))\n",
    "            if conf == 0:\n",
    "                print(f'Obrigado por devolver o carro {alugados[cod][0]}')\n",
    "                carros.append(alugados.pop(cod))\n",
    "    \n",
    "    print('')\n",
    "    print('================')\n",
    "    if int(input('0 - continuar | 1 - sair')) == 1:\n",
    "        break"
   ]
  },
  {
   "cell_type": "code",
   "execution_count": null,
   "id": "512a4769",
   "metadata": {},
   "outputs": [],
   "source": []
  }
 ],
 "metadata": {
  "kernelspec": {
   "display_name": "base",
   "language": "python",
   "name": "python3"
  },
  "language_info": {
   "codemirror_mode": {
    "name": "ipython",
    "version": 3
   },
   "file_extension": ".py",
   "mimetype": "text/x-python",
   "name": "python",
   "nbconvert_exporter": "python",
   "pygments_lexer": "ipython3",
   "version": "3.13.5"
  }
 },
 "nbformat": 4,
 "nbformat_minor": 5
}
