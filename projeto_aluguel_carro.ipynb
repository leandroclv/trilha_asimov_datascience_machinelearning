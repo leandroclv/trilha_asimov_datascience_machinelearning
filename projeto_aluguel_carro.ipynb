{
 "cells": [
  {
   "cell_type": "code",
   "execution_count": 2,
   "id": "2c8656fb",
   "metadata": {},
   "outputs": [],
   "source": [
    "import os"
   ]
  },
  {
   "cell_type": "code",
   "execution_count": 3,
   "id": "67e1a21c",
   "metadata": {},
   "outputs": [],
   "source": [
    "carros = [('Chevrolet Tracker', 120), ('Chevrolet Onix', 90), ('Chevrolet Spin', 150), ('Hyundai HB20', 85), ('Hyundai Tucson', 120), ('Fiat Uno', 60), ('Fiat Mobi', 70), ('Fiat Pulse', 130)]\n",
    "alugados = []\n",
    "\n",
    "def mostrar_lista_carros(lista_de_carros):\n",
    "    for i, car in enumerate(lista_de_carros):\n",
    "        print(f'[{i}] {car[0]} - R$ {car[1]:.2f} por dia')"
   ]
  },
  {
   "cell_type": "code",
   "execution_count": null,
   "id": "91e52785",
   "metadata": {},
   "outputs": [],
   "source": [
    "while True:\n",
    "    os.system('clear')\n",
    "    print('===========')\n",
    "    print('Bem vindo à locadora de carros!')\n",
    "    print('===========')\n",
    "    print('O que você deseja fazer?')\n",
    "    print('0 - Mostrar portifólio | 1 - Alugar uma carro | 2 - Devolver um carro')\n",
    "    op = int(input())\n",
    "    \n",
    "    os.system('clear')\n",
    "    if op == 0:\n",
    "        pass\n",
    "    elif op == 1:\n",
    "        pass\n",
    "    elif op == 2:\n",
    "        pass\n",
    "    \n",
    "    print('')\n",
    "    print('================')\n",
    "    print('0 - continuar | 1 - sair')\n",
    "    if int(input()) == 1:\n",
    "        break"
   ]
  }
 ],
 "metadata": {
  "kernelspec": {
   "display_name": "base",
   "language": "python",
   "name": "python3"
  },
  "language_info": {
   "codemirror_mode": {
    "name": "ipython",
    "version": 3
   },
   "file_extension": ".py",
   "mimetype": "text/x-python",
   "name": "python",
   "nbconvert_exporter": "python",
   "pygments_lexer": "ipython3",
   "version": "3.13.5"
  }
 },
 "nbformat": 4,
 "nbformat_minor": 5
}
