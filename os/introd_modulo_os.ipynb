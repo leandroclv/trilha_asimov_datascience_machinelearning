{
 "cells": [
  {
   "cell_type": "code",
   "execution_count": 2,
   "id": "d9da1a1a",
   "metadata": {},
   "outputs": [],
   "source": [
    "import os"
   ]
  },
  {
   "cell_type": "code",
   "execution_count": 3,
   "id": "a8d38ef4",
   "metadata": {},
   "outputs": [
    {
     "data": {
      "text/plain": [
       "'/home/leandro/Documentos/GitHub/trilha_asimov_datascience_machinelearning/os'"
      ]
     },
     "execution_count": 3,
     "metadata": {},
     "output_type": "execute_result"
    }
   ],
   "source": [
    "os.getcwd()"
   ]
  },
  {
   "cell_type": "code",
   "execution_count": 4,
   "id": "4a979be8",
   "metadata": {},
   "outputs": [
    {
     "data": {
      "text/plain": [
       "['teste.json', 'introd_modulo_os.ipynb', 'teste.txt']"
      ]
     },
     "execution_count": 4,
     "metadata": {},
     "output_type": "execute_result"
    }
   ],
   "source": [
    "os.listdir()"
   ]
  },
  {
   "cell_type": "code",
   "execution_count": 5,
   "id": "266c7567",
   "metadata": {},
   "outputs": [],
   "source": [
    "os.mkdir('Pasta2')"
   ]
  },
  {
   "cell_type": "code",
   "execution_count": 6,
   "id": "9e6cef3a",
   "metadata": {},
   "outputs": [],
   "source": [
    "os.rename('teste.txt', 'teste2.txt')"
   ]
  },
  {
   "cell_type": "code",
   "execution_count": 7,
   "id": "df2fbcdf",
   "metadata": {},
   "outputs": [],
   "source": [
    "os.remove('teste.csv')"
   ]
  },
  {
   "cell_type": "code",
   "execution_count": 8,
   "id": "5d59426f",
   "metadata": {},
   "outputs": [],
   "source": [
    "os.rmdir('Pasta2')"
   ]
  },
  {
   "cell_type": "code",
   "execution_count": 9,
   "id": "e2934090",
   "metadata": {},
   "outputs": [
    {
     "name": "stdout",
     "output_type": "stream",
     "text": [
      "ter 26 ago 2025 09:53:44 -03\n"
     ]
    },
    {
     "data": {
      "text/plain": [
       "0"
      ]
     },
     "execution_count": 9,
     "metadata": {},
     "output_type": "execute_result"
    }
   ],
   "source": [
    "cmd = 'date'\n",
    "os.system(cmd)"
   ]
  },
  {
   "cell_type": "code",
   "execution_count": 10,
   "id": "52008287",
   "metadata": {},
   "outputs": [
    {
     "data": {
      "text/plain": [
       "'/home/leandro/Documentos/GitHub/trilha_asimov_datascience_machinelearning/os/pasta'"
      ]
     },
     "execution_count": 10,
     "metadata": {},
     "output_type": "execute_result"
    }
   ],
   "source": [
    "os.path.join(os.getcwd(), 'pasta')"
   ]
  },
  {
   "cell_type": "code",
   "execution_count": 11,
   "id": "916d1709",
   "metadata": {},
   "outputs": [
    {
     "data": {
      "text/plain": [
       "'os'"
      ]
     },
     "execution_count": 11,
     "metadata": {},
     "output_type": "execute_result"
    }
   ],
   "source": [
    "os.path.basename(os.getcwd())"
   ]
  },
  {
   "cell_type": "code",
   "execution_count": 12,
   "id": "1ee71c88",
   "metadata": {},
   "outputs": [
    {
     "data": {
      "text/plain": [
       "'os'"
      ]
     },
     "execution_count": 12,
     "metadata": {},
     "output_type": "execute_result"
    }
   ],
   "source": [
    "os.getcwd().split('/')[-1]"
   ]
  },
  {
   "cell_type": "code",
   "execution_count": 14,
   "id": "63c1f859",
   "metadata": {},
   "outputs": [
    {
     "data": {
      "text/plain": [
       "'/home/leandro/Documentos/GitHub/trilha_asimov_datascience_machinelearning'"
      ]
     },
     "execution_count": 14,
     "metadata": {},
     "output_type": "execute_result"
    }
   ],
   "source": [
    "os.path.split(os.getcwd())[0]"
   ]
  },
  {
   "cell_type": "code",
   "execution_count": 15,
   "id": "8594ce9b",
   "metadata": {},
   "outputs": [
    {
     "data": {
      "text/plain": [
       "'/home/leandro/Documentos/GitHub/trilha_asimov_datascience_machinelearning'"
      ]
     },
     "execution_count": 15,
     "metadata": {},
     "output_type": "execute_result"
    }
   ],
   "source": [
    "os.path.dirname(os.getcwd())"
   ]
  },
  {
   "cell_type": "code",
   "execution_count": 16,
   "id": "b86253a4",
   "metadata": {},
   "outputs": [],
   "source": [
    "curr_dir = os.getcwd()\n",
    "lt = os.path.getmtime(curr_dir)"
   ]
  },
  {
   "cell_type": "code",
   "execution_count": 20,
   "id": "3f924864",
   "metadata": {},
   "outputs": [
    {
     "name": "stderr",
     "output_type": "stream",
     "text": [
      "/tmp/ipykernel_35513/2394318964.py:2: DeprecationWarning: datetime.datetime.utcfromtimestamp() is deprecated and scheduled for removal in a future version. Use timezone-aware objects to represent datetimes in UTC: datetime.datetime.fromtimestamp(timestamp, datetime.UTC).\n",
      "  datetime.utcfromtimestamp(lt)\n"
     ]
    },
    {
     "data": {
      "text/plain": [
       "datetime.datetime(2025, 8, 26, 12, 53, 23, 491017)"
      ]
     },
     "execution_count": 20,
     "metadata": {},
     "output_type": "execute_result"
    }
   ],
   "source": [
    "from datetime import datetime\n",
    "datetime.utcfromtimestamp(lt)"
   ]
  },
  {
   "cell_type": "code",
   "execution_count": 21,
   "id": "a08005c5",
   "metadata": {},
   "outputs": [
    {
     "data": {
      "text/plain": [
       "False"
      ]
     },
     "execution_count": 21,
     "metadata": {},
     "output_type": "execute_result"
    }
   ],
   "source": [
    "os.path.isfile(curr_dir)"
   ]
  },
  {
   "cell_type": "code",
   "execution_count": 22,
   "id": "329c39b2",
   "metadata": {},
   "outputs": [
    {
     "data": {
      "text/plain": [
       "True"
      ]
     },
     "execution_count": 22,
     "metadata": {},
     "output_type": "execute_result"
    }
   ],
   "source": [
    "os.path.isdir(curr_dir)"
   ]
  },
  {
   "cell_type": "code",
   "execution_count": null,
   "id": "7814e3eb",
   "metadata": {},
   "outputs": [],
   "source": []
  }
 ],
 "metadata": {
  "kernelspec": {
   "display_name": "base",
   "language": "python",
   "name": "python3"
  },
  "language_info": {
   "codemirror_mode": {
    "name": "ipython",
    "version": 3
   },
   "file_extension": ".py",
   "mimetype": "text/x-python",
   "name": "python",
   "nbconvert_exporter": "python",
   "pygments_lexer": "ipython3",
   "version": "3.13.5"
  }
 },
 "nbformat": 4,
 "nbformat_minor": 5
}
