{
 "cells": [
  {
   "cell_type": "code",
   "execution_count": 1,
   "id": "d9da1a1a",
   "metadata": {},
   "outputs": [],
   "source": [
    "import os"
   ]
  },
  {
   "cell_type": "code",
   "execution_count": 2,
   "id": "a8d38ef4",
   "metadata": {},
   "outputs": [
    {
     "data": {
      "text/plain": [
       "'/home/leandro/Documentos/GitHub/trilha_asimov_datascience_machinelearning/os'"
      ]
     },
     "execution_count": 2,
     "metadata": {},
     "output_type": "execute_result"
    }
   ],
   "source": [
    "os.getcwd()"
   ]
  },
  {
   "cell_type": "code",
   "execution_count": 3,
   "id": "4a979be8",
   "metadata": {},
   "outputs": [
    {
     "data": {
      "text/plain": [
       "['teste.json', 'teste2.txt', 'introd_modulo_os.ipynb']"
      ]
     },
     "execution_count": 3,
     "metadata": {},
     "output_type": "execute_result"
    }
   ],
   "source": [
    "os.listdir()"
   ]
  },
  {
   "cell_type": "code",
   "execution_count": 4,
   "id": "266c7567",
   "metadata": {},
   "outputs": [],
   "source": [
    "os.mkdir('Pasta2')"
   ]
  },
  {
   "cell_type": "code",
   "execution_count": null,
   "id": "9e6cef3a",
   "metadata": {},
   "outputs": [],
   "source": [
    "os.rename('teste.txt', 'teste2.txt')"
   ]
  },
  {
   "cell_type": "code",
   "execution_count": null,
   "id": "df2fbcdf",
   "metadata": {},
   "outputs": [],
   "source": [
    "os.remove('teste.csv')"
   ]
  },
  {
   "cell_type": "code",
   "execution_count": null,
   "id": "5d59426f",
   "metadata": {},
   "outputs": [],
   "source": [
    "os.rmdir('Pasta2')"
   ]
  },
  {
   "cell_type": "code",
   "execution_count": null,
   "id": "e2934090",
   "metadata": {},
   "outputs": [
    {
     "name": "stdout",
     "output_type": "stream",
     "text": [
      "ter 26 ago 2025 09:53:44 -03\n"
     ]
    },
    {
     "data": {
      "text/plain": [
       "0"
      ]
     },
     "execution_count": 9,
     "metadata": {},
     "output_type": "execute_result"
    }
   ],
   "source": [
    "cmd = 'date'\n",
    "os.system(cmd)"
   ]
  },
  {
   "cell_type": "code",
   "execution_count": null,
   "id": "52008287",
   "metadata": {},
   "outputs": [
    {
     "data": {
      "text/plain": [
       "'/home/leandro/Documentos/GitHub/trilha_asimov_datascience_machinelearning/os/pasta'"
      ]
     },
     "execution_count": 10,
     "metadata": {},
     "output_type": "execute_result"
    }
   ],
   "source": [
    "os.path.join(os.getcwd(), 'pasta')"
   ]
  },
  {
   "cell_type": "code",
   "execution_count": null,
   "id": "916d1709",
   "metadata": {},
   "outputs": [
    {
     "data": {
      "text/plain": [
       "'os'"
      ]
     },
     "execution_count": 11,
     "metadata": {},
     "output_type": "execute_result"
    }
   ],
   "source": [
    "os.path.basename(os.getcwd())"
   ]
  },
  {
   "cell_type": "code",
   "execution_count": null,
   "id": "1ee71c88",
   "metadata": {},
   "outputs": [
    {
     "data": {
      "text/plain": [
       "'os'"
      ]
     },
     "execution_count": 12,
     "metadata": {},
     "output_type": "execute_result"
    }
   ],
   "source": [
    "os.getcwd().split('/')[-1]"
   ]
  },
  {
   "cell_type": "code",
   "execution_count": null,
   "id": "63c1f859",
   "metadata": {},
   "outputs": [
    {
     "data": {
      "text/plain": [
       "'/home/leandro/Documentos/GitHub/trilha_asimov_datascience_machinelearning'"
      ]
     },
     "execution_count": 14,
     "metadata": {},
     "output_type": "execute_result"
    }
   ],
   "source": [
    "os.path.split(os.getcwd())[0]"
   ]
  },
  {
   "cell_type": "code",
   "execution_count": null,
   "id": "8594ce9b",
   "metadata": {},
   "outputs": [
    {
     "data": {
      "text/plain": [
       "'/home/leandro/Documentos/GitHub/trilha_asimov_datascience_machinelearning'"
      ]
     },
     "execution_count": 15,
     "metadata": {},
     "output_type": "execute_result"
    }
   ],
   "source": [
    "os.path.dirname(os.getcwd())"
   ]
  },
  {
   "cell_type": "code",
   "execution_count": null,
   "id": "b86253a4",
   "metadata": {},
   "outputs": [],
   "source": [
    "curr_dir = os.getcwd()\n",
    "lt = os.path.getmtime(curr_dir)"
   ]
  },
  {
   "cell_type": "code",
   "execution_count": null,
   "id": "3f924864",
   "metadata": {},
   "outputs": [
    {
     "name": "stderr",
     "output_type": "stream",
     "text": [
      "/tmp/ipykernel_35513/2394318964.py:2: DeprecationWarning: datetime.datetime.utcfromtimestamp() is deprecated and scheduled for removal in a future version. Use timezone-aware objects to represent datetimes in UTC: datetime.datetime.fromtimestamp(timestamp, datetime.UTC).\n",
      "  datetime.utcfromtimestamp(lt)\n"
     ]
    },
    {
     "data": {
      "text/plain": [
       "datetime.datetime(2025, 8, 26, 12, 53, 23, 491017)"
      ]
     },
     "execution_count": 20,
     "metadata": {},
     "output_type": "execute_result"
    }
   ],
   "source": [
    "from datetime import datetime\n",
    "datetime.utcfromtimestamp(lt)"
   ]
  },
  {
   "cell_type": "code",
   "execution_count": null,
   "id": "a08005c5",
   "metadata": {},
   "outputs": [
    {
     "data": {
      "text/plain": [
       "False"
      ]
     },
     "execution_count": 21,
     "metadata": {},
     "output_type": "execute_result"
    }
   ],
   "source": [
    "os.path.isfile(curr_dir)"
   ]
  },
  {
   "cell_type": "code",
   "execution_count": null,
   "id": "329c39b2",
   "metadata": {},
   "outputs": [
    {
     "data": {
      "text/plain": [
       "True"
      ]
     },
     "execution_count": 22,
     "metadata": {},
     "output_type": "execute_result"
    }
   ],
   "source": [
    "os.path.isdir(curr_dir)"
   ]
  },
  {
   "cell_type": "markdown",
   "id": "7814e3eb",
   "metadata": {},
   "source": [
    "###Organizando arquivos"
   ]
  },
  {
   "cell_type": "code",
   "execution_count": 6,
   "id": "1819a692",
   "metadata": {},
   "outputs": [
    {
     "data": {
      "text/plain": [
       "\" \\nin.py\\n\\nimport os\\n\\ncwd = os.getcwd()\\n\\nfull_list = os.listdir(cwd)\\n\\nfiles_list = [i for i in full_list if os.path.isfile(i) and '.py' not in i]\\ntypes = list(set([i.split('.')[1] for i in files_list]))\\n\\nfor file_type in types:\\n    os.mkdir(file_type)\\n    \\nfor file in files_list:\\n    from_path = os.path.join(cwd, file)\\n    to_path = os.path.join(cwd, file.split('.')[-1], file)\\n\\n    os.replace(from_path, to_path)\\n\""
      ]
     },
     "execution_count": 6,
     "metadata": {},
     "output_type": "execute_result"
    }
   ],
   "source": [
    "\"\"\" \n",
    "in.py\n",
    "\n",
    "import os\n",
    "\n",
    "cwd = os.getcwd()\n",
    "\n",
    "full_list = os.listdir(cwd)\n",
    "\n",
    "files_list = [i for i in full_list if os.path.isfile(i) and '.py' not in i]\n",
    "types = list(set([i.split('.')[1] for i in files_list]))\n",
    "\n",
    "for file_type in types:\n",
    "    os.mkdir(file_type)\n",
    "    \n",
    "for file in files_list:\n",
    "    from_path = os.path.join(cwd, file)\n",
    "    to_path = os.path.join(cwd, file.split('.')[-1], file)\n",
    "\n",
    "    os.replace(from_path, to_path)\n",
    "\"\"\""
   ]
  },
  {
   "cell_type": "code",
   "execution_count": null,
   "id": "ba1c9e60",
   "metadata": {},
   "outputs": [],
   "source": [
    "\"\"\" \n",
    "out.py\n",
    "\n",
    "import os\n",
    "\n",
    "cwd = os.getcwd()\n",
    "\n",
    "folder_list = [i for i in os.listdir(cwd) if os.path.isdir(i)]\n",
    "\n",
    "for folder in folder_list:\n",
    "    path = os.path.join(cwd, folder)\n",
    "    \n",
    "    files = os.listdir(path):\n",
    "    for file in files:\n",
    "        from_path = os.path.join(path, file)\n",
    "        to_path = os.path.join(cwd, file)\n",
    "        os.replace(from_path, to_path)\n",
    "    os.rmdir(path)\n",
    "\"\"\""
   ]
  }
 ],
 "metadata": {
  "kernelspec": {
   "display_name": "base",
   "language": "python",
   "name": "python3"
  },
  "language_info": {
   "codemirror_mode": {
    "name": "ipython",
    "version": 3
   },
   "file_extension": ".py",
   "mimetype": "text/x-python",
   "name": "python",
   "nbconvert_exporter": "python",
   "pygments_lexer": "ipython3",
   "version": "3.13.5"
  }
 },
 "nbformat": 4,
 "nbformat_minor": 5
}
