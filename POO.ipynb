{
 "cells": [
  {
   "cell_type": "markdown",
   "id": "6428d779",
   "metadata": {},
   "source": [
    "###Programação Orientada a Objetos"
   ]
  },
  {
   "cell_type": "code",
   "execution_count": 1,
   "id": "c4821833",
   "metadata": {},
   "outputs": [],
   "source": [
    "string = 'str'"
   ]
  },
  {
   "cell_type": "code",
   "execution_count": 2,
   "id": "1aef8f9e",
   "metadata": {},
   "outputs": [
    {
     "name": "stdout",
     "output_type": "stream",
     "text": [
      "<class 'str'>\n"
     ]
    }
   ],
   "source": [
    "print(type(string))"
   ]
  },
  {
   "cell_type": "code",
   "execution_count": 3,
   "id": "57d4198b",
   "metadata": {},
   "outputs": [],
   "source": [
    "class Exemplo:\n",
    "    pass"
   ]
  },
  {
   "cell_type": "code",
   "execution_count": 4,
   "id": "d2f72673",
   "metadata": {},
   "outputs": [],
   "source": [
    "x = Exemplo()"
   ]
  },
  {
   "cell_type": "code",
   "execution_count": 5,
   "id": "86343e04",
   "metadata": {},
   "outputs": [
    {
     "name": "stdout",
     "output_type": "stream",
     "text": [
      "<class '__main__.Exemplo'>\n"
     ]
    }
   ],
   "source": [
    "print(type(x))"
   ]
  },
  {
   "cell_type": "code",
   "execution_count": null,
   "id": "ca6c879a",
   "metadata": {},
   "outputs": [],
   "source": [
    "class Dog:\n",
    "    def __init__(self, raca):\n",
    "        self.raca = raca\n",
    "        self.idade = 10\n",
    "        print(f'{raca} criada')\n",
    "        \n",
    "    def envelhecer(self):\n",
    "        self.idade += 1\n",
    "        return self.idade"
   ]
  },
  {
   "cell_type": "code",
   "execution_count": 22,
   "id": "9080ba4b",
   "metadata": {},
   "outputs": [
    {
     "name": "stdout",
     "output_type": "stream",
     "text": [
      "Labrador criada\n",
      "Huskie criada\n"
     ]
    }
   ],
   "source": [
    "dog = Dog('Labrador')\n",
    "dog2 = Dog('Huskie')"
   ]
  },
  {
   "cell_type": "code",
   "execution_count": 23,
   "id": "95b8d79d",
   "metadata": {},
   "outputs": [
    {
     "name": "stdout",
     "output_type": "stream",
     "text": [
      "10\n",
      "Labrador\n"
     ]
    }
   ],
   "source": [
    "print(dog.idade)\n",
    "print(dog.raca)"
   ]
  },
  {
   "cell_type": "code",
   "execution_count": 24,
   "id": "6f287e27",
   "metadata": {},
   "outputs": [
    {
     "data": {
      "text/plain": [
       "11"
      ]
     },
     "execution_count": 24,
     "metadata": {},
     "output_type": "execute_result"
    }
   ],
   "source": [
    "dog.envelhecer()\n",
    "dog.idade"
   ]
  },
  {
   "cell_type": "code",
   "execution_count": 13,
   "id": "633e941e",
   "metadata": {},
   "outputs": [
    {
     "data": {
      "text/plain": [
       "11"
      ]
     },
     "execution_count": 13,
     "metadata": {},
     "output_type": "execute_result"
    }
   ],
   "source": [
    "dog.idade = 11\n",
    "dog.idade"
   ]
  },
  {
   "cell_type": "code",
   "execution_count": 14,
   "id": "c414a780",
   "metadata": {},
   "outputs": [
    {
     "data": {
      "text/plain": [
       "10"
      ]
     },
     "execution_count": 14,
     "metadata": {},
     "output_type": "execute_result"
    }
   ],
   "source": [
    "dog2.idade"
   ]
  },
  {
   "cell_type": "code",
   "execution_count": 32,
   "id": "1c809791",
   "metadata": {},
   "outputs": [],
   "source": [
    "class Circulo:\n",
    "    def __init__(self, raio = 1):\n",
    "            self.raio = raio\n",
    "            \n",
    "    def calcula_area(self):\n",
    "        return self.raio * self.raio * 3.14\n",
    "    \n",
    "    def retorna_raio(self):\n",
    "        return self.raio"
   ]
  },
  {
   "cell_type": "code",
   "execution_count": 33,
   "id": "89cc390f",
   "metadata": {},
   "outputs": [],
   "source": [
    "c1 = Circulo()\n",
    "c2 = Circulo(2)"
   ]
  },
  {
   "cell_type": "code",
   "execution_count": 34,
   "id": "68979c64",
   "metadata": {},
   "outputs": [
    {
     "data": {
      "text/plain": [
       "1"
      ]
     },
     "execution_count": 34,
     "metadata": {},
     "output_type": "execute_result"
    }
   ],
   "source": [
    "c1.raio"
   ]
  },
  {
   "cell_type": "code",
   "execution_count": 35,
   "id": "e45759ed",
   "metadata": {},
   "outputs": [
    {
     "data": {
      "text/plain": [
       "3.14"
      ]
     },
     "execution_count": 35,
     "metadata": {},
     "output_type": "execute_result"
    }
   ],
   "source": [
    "c1.calcula_area()"
   ]
  },
  {
   "cell_type": "code",
   "execution_count": 36,
   "id": "c92a77e9",
   "metadata": {},
   "outputs": [
    {
     "data": {
      "text/plain": [
       "2"
      ]
     },
     "execution_count": 36,
     "metadata": {},
     "output_type": "execute_result"
    }
   ],
   "source": [
    "c2.retorna_raio()"
   ]
  },
  {
   "cell_type": "code",
   "execution_count": null,
   "id": "2df9f65e",
   "metadata": {},
   "outputs": [],
   "source": []
  }
 ],
 "metadata": {
  "kernelspec": {
   "display_name": "base",
   "language": "python",
   "name": "python3"
  },
  "language_info": {
   "codemirror_mode": {
    "name": "ipython",
    "version": 3
   },
   "file_extension": ".py",
   "mimetype": "text/x-python",
   "name": "python",
   "nbconvert_exporter": "python",
   "pygments_lexer": "ipython3",
   "version": "3.13.5"
  }
 },
 "nbformat": 4,
 "nbformat_minor": 5
}
