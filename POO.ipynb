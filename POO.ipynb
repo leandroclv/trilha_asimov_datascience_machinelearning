{
 "cells": [
  {
   "cell_type": "markdown",
   "id": "6428d779",
   "metadata": {},
   "source": [
    "###Programação Orientada a Objetos"
   ]
  },
  {
   "cell_type": "code",
   "execution_count": null,
   "id": "c4821833",
   "metadata": {},
   "outputs": [],
   "source": [
    "string = 'str'"
   ]
  },
  {
   "cell_type": "code",
   "execution_count": null,
   "id": "1aef8f9e",
   "metadata": {},
   "outputs": [
    {
     "name": "stdout",
     "output_type": "stream",
     "text": [
      "<class 'str'>\n"
     ]
    }
   ],
   "source": [
    "print(type(string))"
   ]
  },
  {
   "cell_type": "code",
   "execution_count": null,
   "id": "57d4198b",
   "metadata": {},
   "outputs": [],
   "source": [
    "class Exemplo:\n",
    "    pass"
   ]
  },
  {
   "cell_type": "code",
   "execution_count": null,
   "id": "d2f72673",
   "metadata": {},
   "outputs": [],
   "source": [
    "x = Exemplo()"
   ]
  },
  {
   "cell_type": "code",
   "execution_count": null,
   "id": "86343e04",
   "metadata": {},
   "outputs": [
    {
     "name": "stdout",
     "output_type": "stream",
     "text": [
      "<class '__main__.Exemplo'>\n"
     ]
    }
   ],
   "source": [
    "print(type(x))"
   ]
  },
  {
   "cell_type": "code",
   "execution_count": null,
   "id": "ca6c879a",
   "metadata": {},
   "outputs": [],
   "source": [
    "class Dog:\n",
    "    def __init__(self, raca):\n",
    "        self.raca = raca\n",
    "        self.idade = 10\n",
    "        print(f'{raca} criada')\n",
    "        \n",
    "    def envelhecer(self):\n",
    "        self.idade += 1\n",
    "        return self.idade"
   ]
  },
  {
   "cell_type": "code",
   "execution_count": null,
   "id": "9080ba4b",
   "metadata": {},
   "outputs": [
    {
     "name": "stdout",
     "output_type": "stream",
     "text": [
      "Labrador criada\n",
      "Huskie criada\n"
     ]
    }
   ],
   "source": [
    "dog = Dog('Labrador')\n",
    "dog2 = Dog('Huskie')"
   ]
  },
  {
   "cell_type": "code",
   "execution_count": null,
   "id": "95b8d79d",
   "metadata": {},
   "outputs": [
    {
     "name": "stdout",
     "output_type": "stream",
     "text": [
      "10\n",
      "Labrador\n"
     ]
    }
   ],
   "source": [
    "print(dog.idade)\n",
    "print(dog.raca)"
   ]
  },
  {
   "cell_type": "code",
   "execution_count": null,
   "id": "6f287e27",
   "metadata": {},
   "outputs": [
    {
     "data": {
      "text/plain": [
       "11"
      ]
     },
     "execution_count": 24,
     "metadata": {},
     "output_type": "execute_result"
    }
   ],
   "source": [
    "dog.envelhecer()\n",
    "dog.idade"
   ]
  },
  {
   "cell_type": "code",
   "execution_count": null,
   "id": "633e941e",
   "metadata": {},
   "outputs": [
    {
     "data": {
      "text/plain": [
       "11"
      ]
     },
     "execution_count": 13,
     "metadata": {},
     "output_type": "execute_result"
    }
   ],
   "source": [
    "dog.idade = 11\n",
    "dog.idade"
   ]
  },
  {
   "cell_type": "code",
   "execution_count": null,
   "id": "c414a780",
   "metadata": {},
   "outputs": [
    {
     "data": {
      "text/plain": [
       "10"
      ]
     },
     "execution_count": 14,
     "metadata": {},
     "output_type": "execute_result"
    }
   ],
   "source": [
    "dog2.idade"
   ]
  },
  {
   "cell_type": "code",
   "execution_count": null,
   "id": "1c809791",
   "metadata": {},
   "outputs": [],
   "source": [
    "class Circulo:\n",
    "    def __init__(self, raio = 1):\n",
    "            self.raio = raio\n",
    "            \n",
    "    def calcula_area(self):\n",
    "        return self.raio * self.raio * 3.14\n",
    "    \n",
    "    def retorna_raio(self):\n",
    "        return self.raio"
   ]
  },
  {
   "cell_type": "code",
   "execution_count": null,
   "id": "89cc390f",
   "metadata": {},
   "outputs": [],
   "source": [
    "c1 = Circulo()\n",
    "c2 = Circulo(2)"
   ]
  },
  {
   "cell_type": "code",
   "execution_count": null,
   "id": "68979c64",
   "metadata": {},
   "outputs": [
    {
     "data": {
      "text/plain": [
       "1"
      ]
     },
     "execution_count": 34,
     "metadata": {},
     "output_type": "execute_result"
    }
   ],
   "source": [
    "c1.raio"
   ]
  },
  {
   "cell_type": "code",
   "execution_count": null,
   "id": "e45759ed",
   "metadata": {},
   "outputs": [
    {
     "data": {
      "text/plain": [
       "3.14"
      ]
     },
     "execution_count": 35,
     "metadata": {},
     "output_type": "execute_result"
    }
   ],
   "source": [
    "c1.calcula_area()"
   ]
  },
  {
   "cell_type": "code",
   "execution_count": null,
   "id": "c92a77e9",
   "metadata": {},
   "outputs": [
    {
     "data": {
      "text/plain": [
       "2"
      ]
     },
     "execution_count": 36,
     "metadata": {},
     "output_type": "execute_result"
    }
   ],
   "source": [
    "c2.retorna_raio()"
   ]
  },
  {
   "cell_type": "markdown",
   "id": "2df9f65e",
   "metadata": {},
   "source": [
    "##Herança"
   ]
  },
  {
   "cell_type": "code",
   "execution_count": null,
   "id": "5240b519",
   "metadata": {},
   "outputs": [],
   "source": [
    "class Animal:\n",
    "    def __init__(self):\n",
    "        print('Animal criado')\n",
    "        \n",
    "    def quem_sou_eu(self):\n",
    "        print('Eu sou um animal.')\n",
    "        \n",
    "    def comer(self):\n",
    "        print('Comendo')\n",
    "        \n",
    "class Cachorro(Animal):#Herança\n",
    "    def __init__(self):\n",
    "        Animal.__init__(self)\n",
    "        print('Eu sou um cachorrro')\n",
    "    \n",
    "    def quem_sou_eu(self):\n",
    "        print('Eu sou um cachorro.')"
   ]
  },
  {
   "cell_type": "code",
   "execution_count": 8,
   "id": "485529c7",
   "metadata": {},
   "outputs": [
    {
     "name": "stdout",
     "output_type": "stream",
     "text": [
      "Animal criado\n"
     ]
    }
   ],
   "source": [
    "animal = Animal()"
   ]
  },
  {
   "cell_type": "code",
   "execution_count": 9,
   "id": "271af40a",
   "metadata": {},
   "outputs": [
    {
     "name": "stdout",
     "output_type": "stream",
     "text": [
      "Animal criado\n"
     ]
    }
   ],
   "source": [
    "dog = Cachorro()"
   ]
  },
  {
   "cell_type": "code",
   "execution_count": 10,
   "id": "15c54561",
   "metadata": {},
   "outputs": [
    {
     "name": "stdout",
     "output_type": "stream",
     "text": [
      "Eu sou um animal.\n"
     ]
    }
   ],
   "source": [
    "animal.quem_sou_eu()"
   ]
  },
  {
   "cell_type": "code",
   "execution_count": 11,
   "id": "7b1f076a",
   "metadata": {},
   "outputs": [
    {
     "name": "stdout",
     "output_type": "stream",
     "text": [
      "Eu sou um cachorro.\n"
     ]
    }
   ],
   "source": [
    "dog.quem_sou_eu()"
   ]
  },
  {
   "cell_type": "code",
   "execution_count": 12,
   "id": "2e3d4d55",
   "metadata": {},
   "outputs": [],
   "source": [
    "class Book(object):\n",
    "    def __init__(self, title, author, pages):\n",
    "        print('A book is created')\n",
    "        self.title = title\n",
    "        self.author = author\n",
    "        self.pages = pages\n",
    "        \n",
    "    def __str__(self):\n",
    "        return f'Titles: {self.title}, author: {self.author}, pages: {self.pages}'\n",
    "    \n",
    "    def __len__(self):\n",
    "        return self.pages\n",
    "    \n",
    "    def __del__(self):\n",
    "        print('A book is destroyed')"
   ]
  },
  {
   "cell_type": "code",
   "execution_count": 13,
   "id": "659e5cb5",
   "metadata": {},
   "outputs": [
    {
     "name": "stdout",
     "output_type": "stream",
     "text": [
      "A book is created\n"
     ]
    }
   ],
   "source": [
    "book = Book('Curso de Pyhton', 'Rodrigo Tadewold', 159)"
   ]
  },
  {
   "cell_type": "code",
   "execution_count": 14,
   "id": "9e64f35d",
   "metadata": {},
   "outputs": [
    {
     "name": "stdout",
     "output_type": "stream",
     "text": [
      "Titles: Curso de Pyhton, author: Rodrigo Tadewold, pages: 159\n",
      "159\n",
      "A book is destroyed\n"
     ]
    }
   ],
   "source": [
    "#Métodos especiais\n",
    "print(book)\n",
    "print(len(book))\n",
    "del book"
   ]
  },
  {
   "cell_type": "code",
   "execution_count": null,
   "id": "85a93032",
   "metadata": {},
   "outputs": [],
   "source": []
  }
 ],
 "metadata": {
  "kernelspec": {
   "display_name": "base",
   "language": "python",
   "name": "python3"
  },
  "language_info": {
   "codemirror_mode": {
    "name": "ipython",
    "version": 3
   },
   "file_extension": ".py",
   "mimetype": "text/x-python",
   "name": "python",
   "nbconvert_exporter": "python",
   "pygments_lexer": "ipython3",
   "version": "3.13.5"
  }
 },
 "nbformat": 4,
 "nbformat_minor": 5
}
